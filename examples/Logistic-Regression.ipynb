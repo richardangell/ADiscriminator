{
 "cells": [
  {
   "cell_type": "code",
   "execution_count": 1,
   "metadata": {},
   "outputs": [],
   "source": [
    "import numpy as np\n",
    "import pandas as pd\n",
    "from sklearn import preprocessing\n",
    "from sklearn.linear_model import LogisticRegression\n",
    "from sklearn.metrics import accuracy_score, f1_score"
   ]
  },
  {
   "cell_type": "code",
   "execution_count": 2,
   "metadata": {},
   "outputs": [],
   "source": [
    "import adiscriminator as ad"
   ]
  },
  {
   "cell_type": "markdown",
   "metadata": {},
   "source": [
    "# Get data"
   ]
  },
  {
   "cell_type": "code",
   "execution_count": 3,
   "metadata": {},
   "outputs": [],
   "source": [
    "adult = ad.data.get_data()\n",
    "X, y = ad.data.data_to_np(adult)"
   ]
  },
  {
   "cell_type": "code",
   "execution_count": 4,
   "metadata": {},
   "outputs": [
    {
     "data": {
      "text/plain": [
       "((32560, 6), (32560,), 0.7591830466830467)"
      ]
     },
     "execution_count": 4,
     "metadata": {},
     "output_type": "execute_result"
    }
   ],
   "source": [
    "X.shape, y.shape, y.mean()"
   ]
  },
  {
   "cell_type": "code",
   "execution_count": 5,
   "metadata": {},
   "outputs": [],
   "source": [
    "protected_column = np.array((adult.sex == ' Female').astype(int))"
   ]
  },
  {
   "cell_type": "markdown",
   "metadata": {},
   "source": [
    "# Build model without regularisation"
   ]
  },
  {
   "cell_type": "code",
   "execution_count": 6,
   "metadata": {},
   "outputs": [],
   "source": [
    "model = ad.logistic_regression.base.LogisticRegression()"
   ]
  },
  {
   "cell_type": "code",
   "execution_count": 7,
   "metadata": {},
   "outputs": [
    {
     "data": {
      "text/plain": [
       "<adiscriminator.logistic_regression.base.LogisticRegression at 0x7fc7bc1390d0>"
      ]
     },
     "execution_count": 7,
     "metadata": {},
     "output_type": "execute_result"
    }
   ],
   "source": [
    "model.fit(X, y)"
   ]
  },
  {
   "cell_type": "code",
   "execution_count": 8,
   "metadata": {},
   "outputs": [
    {
     "data": {
      "text/html": [
       "<div>\n",
       "<style scoped>\n",
       "    .dataframe tbody tr th:only-of-type {\n",
       "        vertical-align: middle;\n",
       "    }\n",
       "\n",
       "    .dataframe tbody tr th {\n",
       "        vertical-align: top;\n",
       "    }\n",
       "\n",
       "    .dataframe thead th {\n",
       "        text-align: right;\n",
       "    }\n",
       "</style>\n",
       "<table border=\"1\" class=\"dataframe\">\n",
       "  <thead>\n",
       "    <tr style=\"text-align: right;\">\n",
       "      <th></th>\n",
       "      <th>name</th>\n",
       "      <th>std_coef</th>\n",
       "      <th>coef</th>\n",
       "    </tr>\n",
       "  </thead>\n",
       "  <tbody>\n",
       "    <tr>\n",
       "      <th>0</th>\n",
       "      <td>intercept</td>\n",
       "      <td>1.351561</td>\n",
       "      <td>8.450479e+00</td>\n",
       "    </tr>\n",
       "    <tr>\n",
       "      <th>1</th>\n",
       "      <td>x1</td>\n",
       "      <td>-0.591669</td>\n",
       "      <td>-4.337612e-02</td>\n",
       "    </tr>\n",
       "    <tr>\n",
       "      <th>2</th>\n",
       "      <td>x2</td>\n",
       "      <td>-0.060192</td>\n",
       "      <td>-5.702823e-07</td>\n",
       "    </tr>\n",
       "    <tr>\n",
       "      <th>3</th>\n",
       "      <td>x3</td>\n",
       "      <td>-0.831610</td>\n",
       "      <td>-3.232480e-01</td>\n",
       "    </tr>\n",
       "    <tr>\n",
       "      <th>4</th>\n",
       "      <td>x4</td>\n",
       "      <td>-2.353576</td>\n",
       "      <td>-3.186843e-04</td>\n",
       "    </tr>\n",
       "    <tr>\n",
       "      <th>5</th>\n",
       "      <td>x5</td>\n",
       "      <td>-0.282279</td>\n",
       "      <td>-7.005138e-04</td>\n",
       "    </tr>\n",
       "    <tr>\n",
       "      <th>6</th>\n",
       "      <td>x6</td>\n",
       "      <td>-0.505060</td>\n",
       "      <td>-4.090409e-02</td>\n",
       "    </tr>\n",
       "  </tbody>\n",
       "</table>\n",
       "</div>"
      ],
      "text/plain": [
       "        name  std_coef          coef\n",
       "0  intercept  1.351561  8.450479e+00\n",
       "1         x1 -0.591669 -4.337612e-02\n",
       "2         x2 -0.060192 -5.702823e-07\n",
       "3         x3 -0.831610 -3.232480e-01\n",
       "4         x4 -2.353576 -3.186843e-04\n",
       "5         x5 -0.282279 -7.005138e-04\n",
       "6         x6 -0.505060 -4.090409e-02"
      ]
     },
     "execution_count": 8,
     "metadata": {},
     "output_type": "execute_result"
    }
   ],
   "source": [
    "model.coefficients"
   ]
  },
  {
   "cell_type": "code",
   "execution_count": 9,
   "metadata": {},
   "outputs": [],
   "source": [
    "adult['model_preds'] = model.predict_proba(X)"
   ]
  },
  {
   "cell_type": "code",
   "execution_count": 10,
   "metadata": {},
   "outputs": [
    {
     "data": {
      "text/plain": [
       "0.7591828755054341"
      ]
     },
     "execution_count": 10,
     "metadata": {},
     "output_type": "execute_result"
    }
   ],
   "source": [
    "adult['model_preds'].mean()"
   ]
  },
  {
   "cell_type": "markdown",
   "metadata": {},
   "source": [
    "# Build model with L2 regularisation"
   ]
  },
  {
   "cell_type": "markdown",
   "metadata": {},
   "source": [
    "## Using adiscriminator"
   ]
  },
  {
   "cell_type": "code",
   "execution_count": 11,
   "metadata": {},
   "outputs": [],
   "source": [
    "model2 = ad.logistic_regression.ridge.RidgeRegression(\n",
    "    lambda_ = 5, \n",
    "    penalise_intercept = True\n",
    ")"
   ]
  },
  {
   "cell_type": "code",
   "execution_count": 12,
   "metadata": {},
   "outputs": [
    {
     "data": {
      "text/plain": [
       "<adiscriminator.logistic_regression.ridge.RidgeRegression at 0x7fc7bc88dcd0>"
      ]
     },
     "execution_count": 12,
     "metadata": {},
     "output_type": "execute_result"
    }
   ],
   "source": [
    "model2.fit(X, y)"
   ]
  },
  {
   "cell_type": "code",
   "execution_count": 13,
   "metadata": {},
   "outputs": [
    {
     "data": {
      "text/html": [
       "<div>\n",
       "<style scoped>\n",
       "    .dataframe tbody tr th:only-of-type {\n",
       "        vertical-align: middle;\n",
       "    }\n",
       "\n",
       "    .dataframe tbody tr th {\n",
       "        vertical-align: top;\n",
       "    }\n",
       "\n",
       "    .dataframe thead th {\n",
       "        text-align: right;\n",
       "    }\n",
       "</style>\n",
       "<table border=\"1\" class=\"dataframe\">\n",
       "  <thead>\n",
       "    <tr style=\"text-align: right;\">\n",
       "      <th></th>\n",
       "      <th>name</th>\n",
       "      <th>std_coef</th>\n",
       "      <th>coef</th>\n",
       "    </tr>\n",
       "  </thead>\n",
       "  <tbody>\n",
       "    <tr>\n",
       "      <th>0</th>\n",
       "      <td>intercept</td>\n",
       "      <td>1.353157</td>\n",
       "      <td>8.423530e+00</td>\n",
       "    </tr>\n",
       "    <tr>\n",
       "      <th>1</th>\n",
       "      <td>x1</td>\n",
       "      <td>-0.590112</td>\n",
       "      <td>-4.326200e-02</td>\n",
       "    </tr>\n",
       "    <tr>\n",
       "      <th>2</th>\n",
       "      <td>x2</td>\n",
       "      <td>-0.059913</td>\n",
       "      <td>-5.676380e-07</td>\n",
       "    </tr>\n",
       "    <tr>\n",
       "      <th>3</th>\n",
       "      <td>x3</td>\n",
       "      <td>-0.828911</td>\n",
       "      <td>-3.221988e-01</td>\n",
       "    </tr>\n",
       "    <tr>\n",
       "      <th>4</th>\n",
       "      <td>x4</td>\n",
       "      <td>-2.298129</td>\n",
       "      <td>-3.111766e-04</td>\n",
       "    </tr>\n",
       "    <tr>\n",
       "      <th>5</th>\n",
       "      <td>x5</td>\n",
       "      <td>-0.281212</td>\n",
       "      <td>-6.978648e-04</td>\n",
       "    </tr>\n",
       "    <tr>\n",
       "      <th>6</th>\n",
       "      <td>x6</td>\n",
       "      <td>-0.503613</td>\n",
       "      <td>-4.078684e-02</td>\n",
       "    </tr>\n",
       "  </tbody>\n",
       "</table>\n",
       "</div>"
      ],
      "text/plain": [
       "        name  std_coef          coef\n",
       "0  intercept  1.353157  8.423530e+00\n",
       "1         x1 -0.590112 -4.326200e-02\n",
       "2         x2 -0.059913 -5.676380e-07\n",
       "3         x3 -0.828911 -3.221988e-01\n",
       "4         x4 -2.298129 -3.111766e-04\n",
       "5         x5 -0.281212 -6.978648e-04\n",
       "6         x6 -0.503613 -4.078684e-02"
      ]
     },
     "execution_count": 13,
     "metadata": {},
     "output_type": "execute_result"
    }
   ],
   "source": [
    "model2.coefficients"
   ]
  },
  {
   "cell_type": "code",
   "execution_count": 14,
   "metadata": {},
   "outputs": [],
   "source": [
    "adult['model2_preds'] = model2.predict_proba(X)"
   ]
  },
  {
   "cell_type": "code",
   "execution_count": 15,
   "metadata": {},
   "outputs": [
    {
     "data": {
      "text/plain": [
       "0.7589751075704007"
      ]
     },
     "execution_count": 15,
     "metadata": {},
     "output_type": "execute_result"
    }
   ],
   "source": [
    "adult['model2_preds'].mean()"
   ]
  },
  {
   "cell_type": "markdown",
   "metadata": {},
   "source": [
    "## Compare to scikit-learn L2 model\n",
    "Note, X needs to be scaled first and the regularisation parameter for sklearn is the reciprocal."
   ]
  },
  {
   "cell_type": "code",
   "execution_count": 16,
   "metadata": {},
   "outputs": [],
   "source": [
    "X_scaled = preprocessing.scale(X)"
   ]
  },
  {
   "cell_type": "code",
   "execution_count": 17,
   "metadata": {},
   "outputs": [],
   "source": [
    "sklearn_model = LogisticRegression(\n",
    "    C = 1/5, \n",
    "    penalty = 'l2', \n",
    "    fit_intercept = True\n",
    ")"
   ]
  },
  {
   "cell_type": "code",
   "execution_count": 18,
   "metadata": {},
   "outputs": [
    {
     "data": {
      "text/plain": [
       "LogisticRegression(C=0.2)"
      ]
     },
     "execution_count": 18,
     "metadata": {},
     "output_type": "execute_result"
    }
   ],
   "source": [
    "sklearn_model.fit(X_scaled, y)"
   ]
  },
  {
   "cell_type": "code",
   "execution_count": 19,
   "metadata": {
    "scrolled": true
   },
   "outputs": [
    {
     "name": "stdout",
     "output_type": "stream",
     "text": [
      "[1.35547861] [-0.59069404 -0.05995663 -0.8295936  -2.29543759 -0.28128687 -0.50406425]\n"
     ]
    }
   ],
   "source": [
    "print(sklearn_model.intercept_, sklearn_model.coef_[0])"
   ]
  },
  {
   "cell_type": "markdown",
   "metadata": {},
   "source": [
    "# Build models penalising differences in average prediction"
   ]
  },
  {
   "cell_type": "markdown",
   "metadata": {},
   "source": [
    "## Try different penalty strength"
   ]
  },
  {
   "cell_type": "code",
   "execution_count": 20,
   "metadata": {},
   "outputs": [],
   "source": [
    "for l in np.linspace(0, 200, 21):\n",
    "    model_p = ad.logistic_regression.fair.GroupMeanEqualisingRegression(\n",
    "        group = protected_column,\n",
    "        lambda_ = l\n",
    "    ).fit(X, y)\n",
    "    adult[f'model_p{l}_preds'] = model_p.predict_proba(X)"
   ]
  },
  {
   "cell_type": "markdown",
   "metadata": {},
   "source": [
    "## Gather results"
   ]
  },
  {
   "cell_type": "code",
   "execution_count": 21,
   "metadata": {},
   "outputs": [],
   "source": [
    "prediction_columns = ['model_preds'] + [f'model_p{l}_preds' for l in np.linspace(0, 200, 21)]"
   ]
  },
  {
   "cell_type": "code",
   "execution_count": 22,
   "metadata": {},
   "outputs": [],
   "source": [
    "results = adult.groupby('sex')[prediction_columns].mean().T\n",
    "results['diff'] = results[' Female'] - results[' Male']"
   ]
  },
  {
   "cell_type": "code",
   "execution_count": 23,
   "metadata": {},
   "outputs": [],
   "source": [
    "results['accuracy'] = [accuracy_score(y, adult[col] > 0.5) for col in prediction_columns] \n",
    "results['f1'] = [f1_score(y, adult[col] > 0.5) for col in prediction_columns] "
   ]
  },
  {
   "cell_type": "code",
   "execution_count": 24,
   "metadata": {},
   "outputs": [
    {
     "data": {
      "text/html": [
       "<div>\n",
       "<style scoped>\n",
       "    .dataframe tbody tr th:only-of-type {\n",
       "        vertical-align: middle;\n",
       "    }\n",
       "\n",
       "    .dataframe tbody tr th {\n",
       "        vertical-align: top;\n",
       "    }\n",
       "\n",
       "    .dataframe thead th {\n",
       "        text-align: right;\n",
       "    }\n",
       "</style>\n",
       "<table border=\"1\" class=\"dataframe\">\n",
       "  <thead>\n",
       "    <tr style=\"text-align: right;\">\n",
       "      <th>sex</th>\n",
       "      <th>Female</th>\n",
       "      <th>Male</th>\n",
       "      <th>diff</th>\n",
       "      <th>accuracy</th>\n",
       "      <th>f1</th>\n",
       "    </tr>\n",
       "  </thead>\n",
       "  <tbody>\n",
       "    <tr>\n",
       "      <th>model_preds</th>\n",
       "      <td>0.809917</td>\n",
       "      <td>0.734103</td>\n",
       "      <td>0.075814</td>\n",
       "      <td>0.815387</td>\n",
       "      <td>0.886398</td>\n",
       "    </tr>\n",
       "    <tr>\n",
       "      <th>model_p0.0_preds</th>\n",
       "      <td>0.809917</td>\n",
       "      <td>0.734103</td>\n",
       "      <td>0.075814</td>\n",
       "      <td>0.815387</td>\n",
       "      <td>0.886398</td>\n",
       "    </tr>\n",
       "    <tr>\n",
       "      <th>model_p10.0_preds</th>\n",
       "      <td>0.782867</td>\n",
       "      <td>0.715137</td>\n",
       "      <td>0.067730</td>\n",
       "      <td>0.801843</td>\n",
       "      <td>0.878397</td>\n",
       "    </tr>\n",
       "    <tr>\n",
       "      <th>model_p20.0_preds</th>\n",
       "      <td>0.848566</td>\n",
       "      <td>0.770168</td>\n",
       "      <td>0.078399</td>\n",
       "      <td>0.801843</td>\n",
       "      <td>0.878397</td>\n",
       "    </tr>\n",
       "    <tr>\n",
       "      <th>model_p30.0_preds</th>\n",
       "      <td>0.807620</td>\n",
       "      <td>0.735491</td>\n",
       "      <td>0.072129</td>\n",
       "      <td>0.801843</td>\n",
       "      <td>0.878397</td>\n",
       "    </tr>\n",
       "    <tr>\n",
       "      <th>model_p40.0_preds</th>\n",
       "      <td>0.729788</td>\n",
       "      <td>0.672640</td>\n",
       "      <td>0.057149</td>\n",
       "      <td>0.801843</td>\n",
       "      <td>0.878397</td>\n",
       "    </tr>\n",
       "    <tr>\n",
       "      <th>model_p50.0_preds</th>\n",
       "      <td>0.663241</td>\n",
       "      <td>0.621049</td>\n",
       "      <td>0.042191</td>\n",
       "      <td>0.801843</td>\n",
       "      <td>0.878397</td>\n",
       "    </tr>\n",
       "    <tr>\n",
       "      <th>model_p60.0_preds</th>\n",
       "      <td>0.663241</td>\n",
       "      <td>0.621049</td>\n",
       "      <td>0.042191</td>\n",
       "      <td>0.801843</td>\n",
       "      <td>0.878397</td>\n",
       "    </tr>\n",
       "    <tr>\n",
       "      <th>model_p70.0_preds</th>\n",
       "      <td>0.744288</td>\n",
       "      <td>0.697045</td>\n",
       "      <td>0.047243</td>\n",
       "      <td>0.802058</td>\n",
       "      <td>0.880265</td>\n",
       "    </tr>\n",
       "    <tr>\n",
       "      <th>model_p80.0_preds</th>\n",
       "      <td>0.799119</td>\n",
       "      <td>0.751609</td>\n",
       "      <td>0.047509</td>\n",
       "      <td>0.799939</td>\n",
       "      <td>0.879811</td>\n",
       "    </tr>\n",
       "    <tr>\n",
       "      <th>model_p90.0_preds</th>\n",
       "      <td>0.769585</td>\n",
       "      <td>0.733762</td>\n",
       "      <td>0.035823</td>\n",
       "      <td>0.797144</td>\n",
       "      <td>0.878987</td>\n",
       "    </tr>\n",
       "    <tr>\n",
       "      <th>model_p100.0_preds</th>\n",
       "      <td>0.785045</td>\n",
       "      <td>0.755970</td>\n",
       "      <td>0.029075</td>\n",
       "      <td>0.793765</td>\n",
       "      <td>0.877640</td>\n",
       "    </tr>\n",
       "    <tr>\n",
       "      <th>model_p110.0_preds</th>\n",
       "      <td>0.774596</td>\n",
       "      <td>0.749651</td>\n",
       "      <td>0.024945</td>\n",
       "      <td>0.792230</td>\n",
       "      <td>0.876962</td>\n",
       "    </tr>\n",
       "    <tr>\n",
       "      <th>model_p120.0_preds</th>\n",
       "      <td>0.796644</td>\n",
       "      <td>0.772888</td>\n",
       "      <td>0.023756</td>\n",
       "      <td>0.791001</td>\n",
       "      <td>0.876428</td>\n",
       "    </tr>\n",
       "    <tr>\n",
       "      <th>model_p130.0_preds</th>\n",
       "      <td>0.790237</td>\n",
       "      <td>0.768265</td>\n",
       "      <td>0.021972</td>\n",
       "      <td>0.790663</td>\n",
       "      <td>0.876316</td>\n",
       "    </tr>\n",
       "    <tr>\n",
       "      <th>model_p140.0_preds</th>\n",
       "      <td>0.784649</td>\n",
       "      <td>0.764101</td>\n",
       "      <td>0.020547</td>\n",
       "      <td>0.790111</td>\n",
       "      <td>0.876047</td>\n",
       "    </tr>\n",
       "    <tr>\n",
       "      <th>model_p150.0_preds</th>\n",
       "      <td>0.779638</td>\n",
       "      <td>0.760244</td>\n",
       "      <td>0.019394</td>\n",
       "      <td>0.789865</td>\n",
       "      <td>0.875956</td>\n",
       "    </tr>\n",
       "    <tr>\n",
       "      <th>model_p160.0_preds</th>\n",
       "      <td>0.820289</td>\n",
       "      <td>0.800869</td>\n",
       "      <td>0.019421</td>\n",
       "      <td>0.788268</td>\n",
       "      <td>0.875208</td>\n",
       "    </tr>\n",
       "    <tr>\n",
       "      <th>model_p170.0_preds</th>\n",
       "      <td>0.815908</td>\n",
       "      <td>0.797448</td>\n",
       "      <td>0.018460</td>\n",
       "      <td>0.788084</td>\n",
       "      <td>0.875127</td>\n",
       "    </tr>\n",
       "    <tr>\n",
       "      <th>model_p180.0_preds</th>\n",
       "      <td>0.811667</td>\n",
       "      <td>0.794027</td>\n",
       "      <td>0.017640</td>\n",
       "      <td>0.787991</td>\n",
       "      <td>0.875093</td>\n",
       "    </tr>\n",
       "    <tr>\n",
       "      <th>model_p190.0_preds</th>\n",
       "      <td>0.807498</td>\n",
       "      <td>0.790564</td>\n",
       "      <td>0.016934</td>\n",
       "      <td>0.787807</td>\n",
       "      <td>0.874989</td>\n",
       "    </tr>\n",
       "    <tr>\n",
       "      <th>model_p200.0_preds</th>\n",
       "      <td>0.803344</td>\n",
       "      <td>0.787021</td>\n",
       "      <td>0.016322</td>\n",
       "      <td>0.787746</td>\n",
       "      <td>0.874966</td>\n",
       "    </tr>\n",
       "  </tbody>\n",
       "</table>\n",
       "</div>"
      ],
      "text/plain": [
       "sex                   Female      Male      diff  accuracy        f1\n",
       "model_preds         0.809917  0.734103  0.075814  0.815387  0.886398\n",
       "model_p0.0_preds    0.809917  0.734103  0.075814  0.815387  0.886398\n",
       "model_p10.0_preds   0.782867  0.715137  0.067730  0.801843  0.878397\n",
       "model_p20.0_preds   0.848566  0.770168  0.078399  0.801843  0.878397\n",
       "model_p30.0_preds   0.807620  0.735491  0.072129  0.801843  0.878397\n",
       "model_p40.0_preds   0.729788  0.672640  0.057149  0.801843  0.878397\n",
       "model_p50.0_preds   0.663241  0.621049  0.042191  0.801843  0.878397\n",
       "model_p60.0_preds   0.663241  0.621049  0.042191  0.801843  0.878397\n",
       "model_p70.0_preds   0.744288  0.697045  0.047243  0.802058  0.880265\n",
       "model_p80.0_preds   0.799119  0.751609  0.047509  0.799939  0.879811\n",
       "model_p90.0_preds   0.769585  0.733762  0.035823  0.797144  0.878987\n",
       "model_p100.0_preds  0.785045  0.755970  0.029075  0.793765  0.877640\n",
       "model_p110.0_preds  0.774596  0.749651  0.024945  0.792230  0.876962\n",
       "model_p120.0_preds  0.796644  0.772888  0.023756  0.791001  0.876428\n",
       "model_p130.0_preds  0.790237  0.768265  0.021972  0.790663  0.876316\n",
       "model_p140.0_preds  0.784649  0.764101  0.020547  0.790111  0.876047\n",
       "model_p150.0_preds  0.779638  0.760244  0.019394  0.789865  0.875956\n",
       "model_p160.0_preds  0.820289  0.800869  0.019421  0.788268  0.875208\n",
       "model_p170.0_preds  0.815908  0.797448  0.018460  0.788084  0.875127\n",
       "model_p180.0_preds  0.811667  0.794027  0.017640  0.787991  0.875093\n",
       "model_p190.0_preds  0.807498  0.790564  0.016934  0.787807  0.874989\n",
       "model_p200.0_preds  0.803344  0.787021  0.016322  0.787746  0.874966"
      ]
     },
     "execution_count": 24,
     "metadata": {},
     "output_type": "execute_result"
    }
   ],
   "source": [
    "results"
   ]
  },
  {
   "cell_type": "code",
   "execution_count": null,
   "metadata": {},
   "outputs": [],
   "source": []
  },
  {
   "cell_type": "code",
   "execution_count": null,
   "metadata": {},
   "outputs": [],
   "source": []
  },
  {
   "cell_type": "code",
   "execution_count": null,
   "metadata": {},
   "outputs": [],
   "source": []
  },
  {
   "cell_type": "code",
   "execution_count": null,
   "metadata": {},
   "outputs": [],
   "source": []
  },
  {
   "cell_type": "code",
   "execution_count": null,
   "metadata": {},
   "outputs": [],
   "source": []
  },
  {
   "cell_type": "code",
   "execution_count": null,
   "metadata": {},
   "outputs": [],
   "source": []
  },
  {
   "cell_type": "code",
   "execution_count": null,
   "metadata": {},
   "outputs": [],
   "source": []
  }
 ],
 "metadata": {
  "kernelspec": {
   "display_name": "adiscriminator",
   "language": "python",
   "name": "adiscriminator"
  },
  "language_info": {
   "codemirror_mode": {
    "name": "ipython",
    "version": 3
   },
   "file_extension": ".py",
   "mimetype": "text/x-python",
   "name": "python",
   "nbconvert_exporter": "python",
   "pygments_lexer": "ipython3",
   "version": "3.7.4"
  },
  "toc": {
   "base_numbering": 1,
   "nav_menu": {},
   "number_sections": true,
   "sideBar": true,
   "skip_h1_title": false,
   "title_cell": "Table of Contents",
   "title_sidebar": "Contents",
   "toc_cell": false,
   "toc_position": {},
   "toc_section_display": true,
   "toc_window_display": true
  }
 },
 "nbformat": 4,
 "nbformat_minor": 4
}
