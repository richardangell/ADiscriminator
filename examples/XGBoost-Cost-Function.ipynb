{
 "cells": [
  {
   "cell_type": "code",
   "execution_count": 56,
   "metadata": {},
   "outputs": [],
   "source": [
    "import numpy as np\n",
    "import pandas as pd\n",
    "from sklearn import preprocessing\n",
    "from sklearn.linear_model import LogisticRegression\n",
    "from sklearn.metrics import accuracy_score, f1_score\n",
    "from sklearn.metrics import mean_squared_error"
   ]
  },
  {
   "cell_type": "code",
   "execution_count": 6,
   "metadata": {},
   "outputs": [],
   "source": [
    "import xgboost as xgb"
   ]
  },
  {
   "cell_type": "code",
   "execution_count": 2,
   "metadata": {},
   "outputs": [],
   "source": [
    "import adiscriminator as ad"
   ]
  },
  {
   "cell_type": "markdown",
   "metadata": {},
   "source": [
    "# Get data"
   ]
  },
  {
   "cell_type": "code",
   "execution_count": 9,
   "metadata": {},
   "outputs": [],
   "source": [
    "adult = ad.data.get_data()\n",
    "X, y = ad.data.data_to_np(adult)"
   ]
  },
  {
   "cell_type": "code",
   "execution_count": 10,
   "metadata": {},
   "outputs": [
    {
     "data": {
      "text/plain": [
       "((32560, 6), (32560,), 0.7591830466830467)"
      ]
     },
     "execution_count": 10,
     "metadata": {},
     "output_type": "execute_result"
    }
   ],
   "source": [
    "X.shape, y.shape, y.mean()"
   ]
  },
  {
   "cell_type": "code",
   "execution_count": 11,
   "metadata": {},
   "outputs": [],
   "source": [
    "protected_column = np.array((adult.sex == ' Female').astype(int))"
   ]
  },
  {
   "cell_type": "markdown",
   "metadata": {},
   "source": [
    "# Set up xgb DMatrix"
   ]
  },
  {
   "cell_type": "code",
   "execution_count": 13,
   "metadata": {},
   "outputs": [],
   "source": [
    "X_xgb = xgb.DMatrix(X, label = y)"
   ]
  },
  {
   "cell_type": "code",
   "execution_count": 14,
   "metadata": {},
   "outputs": [],
   "source": [
    "setattr(X_xgb, 'group', protected_column)"
   ]
  },
  {
   "cell_type": "code",
   "execution_count": 18,
   "metadata": {},
   "outputs": [],
   "source": [
    "setattr(X_xgb, 'N1', protected_column.sum())\n",
    "setattr(X_xgb, 'N2', protected_column.shape[0] - protected_column.sum())"
   ]
  },
  {
   "cell_type": "code",
   "execution_count": null,
   "metadata": {},
   "outputs": [],
   "source": [
    "setattr(X_xgb, 'group', protected_column)"
   ]
  },
  {
   "cell_type": "code",
   "execution_count": 199,
   "metadata": {},
   "outputs": [],
   "source": [
    "setattr(X_xgb, 'lambda_', 0.001)"
   ]
  },
  {
   "cell_type": "markdown",
   "metadata": {},
   "source": [
    "# Define loss function gradient and hessian"
   ]
  },
  {
   "cell_type": "code",
   "execution_count": 207,
   "metadata": {},
   "outputs": [],
   "source": [
    "def logregobj(preds, dtrain):\n",
    "    labels = dtrain.get_label()\n",
    "    preds = 1.0 / (1.0 + np.exp(-preds))\n",
    "    p_one_minus_p = preds * (1.0 - preds)\n",
    "    d = (np.sum(preds[dtrain.group]) / X_xgb.N1) - (np.sum(preds[np.invert(dtrain.group)]) / X_xgb.N2)\n",
    "    print((- labels * np.log(preds) - (1 - labels) * np.log(1 - preds) + dtrain.lambda_ * np.log(1 - d**2)).sum())\n",
    "    grad = preds - labels\n",
    "    p_one_minus_p_d = (np.sum(p_one_minus_p[dtrain.group]) / X_xgb.N1) - (np.sum(p_one_minus_p[np.invert(dtrain.group)]) / X_xgb.N2)\n",
    "    d2pdx2 = p_one_minus_p * (1 - 2 * preds)\n",
    "    d2pdx2_d = (np.sum(d2pdx2[dtrain.group]) / X_xgb.N1) - (np.sum(d2pdx2[np.invert(dtrain.group)]) / X_xgb.N2)\n",
    "    grad = grad - (2 * d * dtrain.lambda_) * p_one_minus_p_d / (1 - d ** 2)\n",
    "    hess = p_one_minus_p \n",
    "    hess_extra_1 = -2 * dtrain.lambda_ * (1 + d ** 2) * p_one_minus_p_d  / (1 - d ** 2) ** 2 \n",
    "    hess_extra_2 = -2 * dtrain.lambda_ * d2pdx2_d / (1 - d ** 2) \n",
    "    hess = hess + hess_extra_1 + hess_extra_2\n",
    "    return grad, hess"
   ]
  },
  {
   "cell_type": "markdown",
   "metadata": {},
   "source": [
    "# Build model"
   ]
  },
  {
   "cell_type": "code",
   "execution_count": 200,
   "metadata": {},
   "outputs": [],
   "source": [
    "param = {'max_depth': 2, 'eta': 1, 'eval_metric': 'logloss'}\n",
    "watchlist = [(X_xgb, 'train')]\n",
    "num_round = 100"
   ]
  },
  {
   "cell_type": "code",
   "execution_count": 208,
   "metadata": {
    "scrolled": true
   },
   "outputs": [
    {
     "name": "stdout",
     "output_type": "stream",
     "text": [
      "19279.691\n",
      "[0]\ttrain-logloss:4.26792\n",
      "nan\n",
      "[1]\ttrain-logloss:15.88878\n",
      "36050.24\n",
      "[2]\ttrain-logloss:4.26291\n",
      "nan\n",
      "[3]\ttrain-logloss:3.85816\n",
      "nan\n",
      "[4]\ttrain-logloss:5.03606\n",
      "nan\n",
      "[5]\ttrain-logloss:5.27794\n",
      "nan\n",
      "[6]\ttrain-logloss:5.08399\n",
      "nan\n",
      "[7]\ttrain-logloss:5.17690\n",
      "nan\n",
      "[8]\ttrain-logloss:5.14558\n",
      "nan\n",
      "[9]\ttrain-logloss:5.05676\n",
      "nan\n",
      "[10]\ttrain-logloss:13.85444\n",
      "nan\n",
      "[11]\ttrain-logloss:4.74888\n",
      "nan\n",
      "[12]\ttrain-logloss:4.63285\n",
      "nan\n",
      "[13]\ttrain-logloss:4.63285\n",
      "nan\n",
      "[14]\ttrain-logloss:4.63285\n",
      "nan\n",
      "[15]\ttrain-logloss:4.63285\n",
      "nan\n",
      "[16]\ttrain-logloss:4.63285\n",
      "nan\n",
      "[17]\ttrain-logloss:4.63285\n",
      "nan\n",
      "[18]\ttrain-logloss:4.63285\n",
      "nan\n",
      "[19]\ttrain-logloss:4.63285\n",
      "nan\n",
      "[20]\ttrain-logloss:4.63285\n",
      "nan\n",
      "[21]\ttrain-logloss:4.63285\n",
      "nan\n",
      "[22]\ttrain-logloss:4.63285\n",
      "nan\n",
      "[23]\ttrain-logloss:4.63285\n",
      "nan\n",
      "[24]\ttrain-logloss:4.63285\n",
      "nan\n",
      "[25]\ttrain-logloss:4.63285\n",
      "nan\n",
      "[26]\ttrain-logloss:4.63285\n",
      "nan\n",
      "[27]\ttrain-logloss:4.63285\n",
      "nan\n",
      "[28]\ttrain-logloss:4.63285\n",
      "nan\n",
      "[29]\ttrain-logloss:4.63285\n",
      "nan\n",
      "[30]\ttrain-logloss:4.63285\n"
     ]
    },
    {
     "name": "stderr",
     "output_type": "stream",
     "text": [
      "/Users/richardangell/anaconda3/envs/adiscriminator/lib/python3.7/site-packages/ipykernel_launcher.py:6: RuntimeWarning: invalid value encountered in log\n",
      "  \n",
      "/Users/richardangell/anaconda3/envs/adiscriminator/lib/python3.7/site-packages/ipykernel_launcher.py:6: RuntimeWarning: divide by zero encountered in log\n",
      "  \n",
      "/Users/richardangell/anaconda3/envs/adiscriminator/lib/python3.7/site-packages/ipykernel_launcher.py:6: RuntimeWarning: invalid value encountered in multiply\n",
      "  \n"
     ]
    },
    {
     "name": "stdout",
     "output_type": "stream",
     "text": [
      "nan\n",
      "[31]\ttrain-logloss:4.63285\n",
      "nan\n",
      "[32]\ttrain-logloss:4.63285\n",
      "nan\n",
      "[33]\ttrain-logloss:4.63285\n",
      "nan\n",
      "[34]\ttrain-logloss:4.63285\n",
      "nan\n",
      "[35]\ttrain-logloss:4.63285\n",
      "nan\n",
      "[36]\ttrain-logloss:4.63285\n",
      "nan\n",
      "[37]\ttrain-logloss:4.63285\n",
      "nan\n",
      "[38]\ttrain-logloss:4.63285\n",
      "nan\n",
      "[39]\ttrain-logloss:4.63285\n",
      "nan\n",
      "[40]\ttrain-logloss:4.63285\n",
      "nan\n",
      "[41]\ttrain-logloss:4.63285\n",
      "nan\n",
      "[42]\ttrain-logloss:4.63285\n",
      "nan\n",
      "[43]\ttrain-logloss:4.63285\n",
      "nan\n",
      "[44]\ttrain-logloss:4.63285\n",
      "nan\n",
      "[45]\ttrain-logloss:4.63285\n",
      "nan\n",
      "[46]\ttrain-logloss:4.63285\n",
      "nan\n",
      "[47]\ttrain-logloss:4.63285\n",
      "nan\n",
      "[48]\ttrain-logloss:4.63285\n",
      "nan\n",
      "[49]\ttrain-logloss:4.63285\n",
      "nan\n",
      "[50]\ttrain-logloss:4.63285\n",
      "nan\n",
      "[51]\ttrain-logloss:4.63285\n",
      "nan\n",
      "[52]\ttrain-logloss:4.63285\n",
      "nan\n",
      "[53]\ttrain-logloss:4.63285\n",
      "nan\n",
      "[54]\ttrain-logloss:4.63285\n",
      "nan\n",
      "[55]\ttrain-logloss:4.63285\n",
      "nan\n",
      "[56]\ttrain-logloss:4.63285\n",
      "nan\n",
      "[57]\ttrain-logloss:4.63285\n",
      "nan\n",
      "[58]\ttrain-logloss:4.63285\n",
      "nan\n",
      "[59]\ttrain-logloss:4.63285\n",
      "nan\n",
      "[60]\ttrain-logloss:4.63285\n",
      "nan\n",
      "[61]\ttrain-logloss:4.63285\n",
      "nan\n",
      "[62]\ttrain-logloss:4.63285\n",
      "nan\n",
      "[63]\ttrain-logloss:4.63285\n",
      "nan\n",
      "[64]\ttrain-logloss:4.63285\n",
      "nan\n",
      "[65]\ttrain-logloss:4.63285\n",
      "nan\n",
      "[66]\ttrain-logloss:4.63285\n",
      "nan\n",
      "[67]\ttrain-logloss:4.63285\n",
      "nan\n",
      "[68]\ttrain-logloss:4.63285\n",
      "nan\n",
      "[69]\ttrain-logloss:4.63285\n",
      "nan\n",
      "[70]\ttrain-logloss:4.63285\n",
      "nan\n",
      "[71]\ttrain-logloss:4.63285\n",
      "nan\n",
      "[72]\ttrain-logloss:4.63285\n",
      "nan\n",
      "[73]\ttrain-logloss:4.63285\n",
      "nan\n",
      "[74]\ttrain-logloss:4.63285\n",
      "nan\n",
      "[75]\ttrain-logloss:4.63285\n",
      "nan\n",
      "[76]\ttrain-logloss:4.63285\n",
      "nan\n",
      "[77]\ttrain-logloss:4.63285\n",
      "nan\n",
      "[78]\ttrain-logloss:4.63285\n",
      "nan\n",
      "[79]\ttrain-logloss:4.63285\n",
      "nan\n",
      "[80]\ttrain-logloss:4.63285\n",
      "nan\n",
      "[81]\ttrain-logloss:4.63285\n",
      "nan\n",
      "[82]\ttrain-logloss:4.63285\n",
      "nan\n",
      "[83]\ttrain-logloss:4.63285\n",
      "nan\n",
      "[84]\ttrain-logloss:4.63285\n",
      "nan\n",
      "[85]\ttrain-logloss:4.63285\n",
      "nan\n",
      "[86]\ttrain-logloss:4.63285\n",
      "nan\n",
      "[87]\ttrain-logloss:4.63285\n",
      "nan\n",
      "[88]\ttrain-logloss:4.63285\n",
      "nan\n",
      "[89]\ttrain-logloss:4.63285\n",
      "nan\n",
      "[90]\ttrain-logloss:4.63285\n",
      "nan\n",
      "[91]\ttrain-logloss:4.63285\n",
      "nan\n",
      "[92]\ttrain-logloss:4.63285\n",
      "nan\n",
      "[93]\ttrain-logloss:4.63285\n",
      "nan\n",
      "[94]\ttrain-logloss:4.63285\n",
      "nan\n",
      "[95]\ttrain-logloss:4.63285\n",
      "nan\n",
      "[96]\ttrain-logloss:4.63285\n",
      "nan\n",
      "[97]\ttrain-logloss:4.63285\n",
      "nan\n",
      "[98]\ttrain-logloss:4.63285\n",
      "nan\n",
      "[99]\ttrain-logloss:4.63285\n"
     ]
    }
   ],
   "source": [
    "bst = xgb.train(param, X_xgb, num_round, watchlist, obj=logregobj)"
   ]
  },
  {
   "cell_type": "code",
   "execution_count": 202,
   "metadata": {},
   "outputs": [],
   "source": [
    "adult['predictions'] = pd.Series(1.0 / (1.0 + np.exp(-bst.predict(X_xgb, ntree_limit = 4))))"
   ]
  },
  {
   "cell_type": "code",
   "execution_count": 203,
   "metadata": {},
   "outputs": [
    {
     "data": {
      "text/html": [
       "<div>\n",
       "<style scoped>\n",
       "    .dataframe tbody tr th:only-of-type {\n",
       "        vertical-align: middle;\n",
       "    }\n",
       "\n",
       "    .dataframe tbody tr th {\n",
       "        vertical-align: top;\n",
       "    }\n",
       "\n",
       "    .dataframe thead th {\n",
       "        text-align: right;\n",
       "    }\n",
       "</style>\n",
       "<table border=\"1\" class=\"dataframe\">\n",
       "  <thead>\n",
       "    <tr style=\"text-align: right;\">\n",
       "      <th></th>\n",
       "      <th>predictions</th>\n",
       "      <th>income</th>\n",
       "    </tr>\n",
       "    <tr>\n",
       "      <th>sex</th>\n",
       "      <th></th>\n",
       "      <th></th>\n",
       "    </tr>\n",
       "  </thead>\n",
       "  <tbody>\n",
       "    <tr>\n",
       "      <th>Female</th>\n",
       "      <td>0.843208</td>\n",
       "      <td>0.890539</td>\n",
       "    </tr>\n",
       "    <tr>\n",
       "      <th>Male</th>\n",
       "      <td>0.785265</td>\n",
       "      <td>0.694249</td>\n",
       "    </tr>\n",
       "  </tbody>\n",
       "</table>\n",
       "</div>"
      ],
      "text/plain": [
       "         predictions    income\n",
       "sex                           \n",
       " Female     0.843208  0.890539\n",
       " Male       0.785265  0.694249"
      ]
     },
     "execution_count": 203,
     "metadata": {},
     "output_type": "execute_result"
    }
   ],
   "source": [
    "adult.groupby('sex')[['predictions', 'income']].mean()"
   ]
  },
  {
   "cell_type": "code",
   "execution_count": 204,
   "metadata": {},
   "outputs": [
    {
     "name": "stdout",
     "output_type": "stream",
     "text": [
      "0.8126535626535627 0.8898200997037787\n"
     ]
    }
   ],
   "source": [
    "print(accuracy_score(y, adult['predictions'] > 0.5), f1_score(y, adult['predictions'] > 0.5))"
   ]
  },
  {
   "cell_type": "code",
   "execution_count": 96,
   "metadata": {},
   "outputs": [
    {
     "data": {
      "text/html": [
       "<div>\n",
       "<style scoped>\n",
       "    .dataframe tbody tr th:only-of-type {\n",
       "        vertical-align: middle;\n",
       "    }\n",
       "\n",
       "    .dataframe tbody tr th {\n",
       "        vertical-align: top;\n",
       "    }\n",
       "\n",
       "    .dataframe thead th {\n",
       "        text-align: right;\n",
       "    }\n",
       "</style>\n",
       "<table border=\"1\" class=\"dataframe\">\n",
       "  <thead>\n",
       "    <tr style=\"text-align: right;\">\n",
       "      <th></th>\n",
       "      <th>predictions</th>\n",
       "      <th>income</th>\n",
       "    </tr>\n",
       "    <tr>\n",
       "      <th>sex</th>\n",
       "      <th></th>\n",
       "      <th></th>\n",
       "    </tr>\n",
       "  </thead>\n",
       "  <tbody>\n",
       "    <tr>\n",
       "      <th>Female</th>\n",
       "      <td>0.828104</td>\n",
       "      <td>0.890539</td>\n",
       "    </tr>\n",
       "    <tr>\n",
       "      <th>Male</th>\n",
       "      <td>0.725014</td>\n",
       "      <td>0.694249</td>\n",
       "    </tr>\n",
       "  </tbody>\n",
       "</table>\n",
       "</div>"
      ],
      "text/plain": [
       "         predictions    income\n",
       "sex                           \n",
       " Female     0.828104  0.890539\n",
       " Male       0.725014  0.694249"
      ]
     },
     "execution_count": 96,
     "metadata": {},
     "output_type": "execute_result"
    }
   ],
   "source": [
    "adult.groupby('sex')[['predictions', 'income']].mean()"
   ]
  },
  {
   "cell_type": "code",
   "execution_count": 97,
   "metadata": {},
   "outputs": [
    {
     "name": "stdout",
     "output_type": "stream",
     "text": [
      "0.8505528255528255 0.907119679328116\n"
     ]
    }
   ],
   "source": [
    "print(accuracy_score(y, adult['predictions'] > 0.5), f1_score(y, adult['predictions'] > 0.5))"
   ]
  },
  {
   "cell_type": "code",
   "execution_count": null,
   "metadata": {},
   "outputs": [],
   "source": []
  },
  {
   "cell_type": "code",
   "execution_count": null,
   "metadata": {},
   "outputs": [],
   "source": []
  },
  {
   "cell_type": "code",
   "execution_count": null,
   "metadata": {},
   "outputs": [],
   "source": []
  },
  {
   "cell_type": "code",
   "execution_count": null,
   "metadata": {},
   "outputs": [],
   "source": []
  },
  {
   "cell_type": "code",
   "execution_count": null,
   "metadata": {},
   "outputs": [],
   "source": []
  },
  {
   "cell_type": "code",
   "execution_count": null,
   "metadata": {},
   "outputs": [],
   "source": []
  },
  {
   "cell_type": "code",
   "execution_count": null,
   "metadata": {},
   "outputs": [],
   "source": []
  },
  {
   "cell_type": "code",
   "execution_count": null,
   "metadata": {},
   "outputs": [],
   "source": []
  },
  {
   "cell_type": "code",
   "execution_count": null,
   "metadata": {},
   "outputs": [],
   "source": []
  },
  {
   "cell_type": "code",
   "execution_count": null,
   "metadata": {},
   "outputs": [],
   "source": []
  },
  {
   "cell_type": "code",
   "execution_count": null,
   "metadata": {},
   "outputs": [],
   "source": []
  },
  {
   "cell_type": "code",
   "execution_count": null,
   "metadata": {},
   "outputs": [],
   "source": []
  },
  {
   "cell_type": "code",
   "execution_count": null,
   "metadata": {},
   "outputs": [],
   "source": []
  },
  {
   "cell_type": "code",
   "execution_count": null,
   "metadata": {},
   "outputs": [],
   "source": []
  }
 ],
 "metadata": {
  "kernelspec": {
   "display_name": "adiscriminator",
   "language": "python",
   "name": "adiscriminator"
  },
  "language_info": {
   "codemirror_mode": {
    "name": "ipython",
    "version": 3
   },
   "file_extension": ".py",
   "mimetype": "text/x-python",
   "name": "python",
   "nbconvert_exporter": "python",
   "pygments_lexer": "ipython3",
   "version": "3.7.4"
  },
  "toc": {
   "base_numbering": 1,
   "nav_menu": {},
   "number_sections": true,
   "sideBar": true,
   "skip_h1_title": false,
   "title_cell": "Table of Contents",
   "title_sidebar": "Contents",
   "toc_cell": false,
   "toc_position": {},
   "toc_section_display": true,
   "toc_window_display": true
  }
 },
 "nbformat": 4,
 "nbformat_minor": 4
}
