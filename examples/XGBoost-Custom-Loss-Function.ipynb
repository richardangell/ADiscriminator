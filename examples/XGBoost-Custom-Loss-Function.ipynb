{
 "cells": [
  {
   "cell_type": "code",
   "execution_count": 1,
   "metadata": {},
   "outputs": [],
   "source": [
    "import os\n",
    "import numpy as np\n",
    "import xgboost as xgb"
   ]
  },
  {
   "cell_type": "code",
   "execution_count": 2,
   "metadata": {},
   "outputs": [
    {
     "name": "stdout",
     "output_type": "stream",
     "text": [
      "[15:34:27] 6513x127 matrix with 143286 entries loaded from agaricus.txt.train\n",
      "[15:34:27] 1611x127 matrix with 35442 entries loaded from agaricus.txt.test\n"
     ]
    }
   ],
   "source": [
    "dtrain = xgb.DMatrix('agaricus.txt.train')\n",
    "dtest = xgb.DMatrix('agaricus.txt.test')"
   ]
  },
  {
   "cell_type": "code",
   "execution_count": null,
   "metadata": {},
   "outputs": [],
   "source": []
  },
  {
   "cell_type": "code",
   "execution_count": 3,
   "metadata": {},
   "outputs": [],
   "source": [
    "setattr(dtrain, 'xyz', 1)"
   ]
  },
  {
   "cell_type": "code",
   "execution_count": null,
   "metadata": {},
   "outputs": [],
   "source": []
  },
  {
   "cell_type": "code",
   "execution_count": 4,
   "metadata": {},
   "outputs": [],
   "source": [
    "param = {'max_depth': 2, 'eta': 1}\n",
    "watchlist = [(dtest, 'eval'), (dtrain, 'train')]\n",
    "num_round = 2"
   ]
  },
  {
   "cell_type": "code",
   "execution_count": null,
   "metadata": {},
   "outputs": [],
   "source": []
  },
  {
   "cell_type": "code",
   "execution_count": 5,
   "metadata": {},
   "outputs": [],
   "source": [
    "\n",
    "# user define objective function, given prediction, return gradient and second\n",
    "# order gradient this is log likelihood loss\n",
    "def logregobj(preds, dtrain):\n",
    "    print(dtrain.xyz)\n",
    "    labels = dtrain.get_label()\n",
    "    preds = 1.0 / (1.0 + np.exp(-preds))\n",
    "    grad = preds - labels\n",
    "    hess = preds * (1.0 - preds)\n",
    "    print(grad.shape, hess.shape)\n",
    "    return grad, hess\n"
   ]
  },
  {
   "cell_type": "code",
   "execution_count": 6,
   "metadata": {},
   "outputs": [],
   "source": [
    "# NOTE: when you do customized loss function, the default prediction value is\n",
    "# margin. this may make builtin evaluation metric not function properly for\n",
    "# example, we are doing logistic loss, the prediction is score before logistic\n",
    "# transformation the builtin evaluation error assumes input is after logistic\n",
    "# transformation Take this in mind when you use the customization, and maybe\n",
    "# you need write customized evaluation function\n",
    "def evalerror(preds, dtrain):\n",
    "    labels = dtrain.get_label()\n",
    "    # return a pair metric_name, result. The metric name must not contain a\n",
    "    # colon (:) or a space since preds are margin(before logistic\n",
    "    # transformation, cutoff at 0)\n",
    "    return 'my-error', float(sum(labels != (preds > 0.0))) / len(labels)"
   ]
  },
  {
   "cell_type": "code",
   "execution_count": null,
   "metadata": {},
   "outputs": [],
   "source": []
  },
  {
   "cell_type": "code",
   "execution_count": 7,
   "metadata": {},
   "outputs": [
    {
     "name": "stdout",
     "output_type": "stream",
     "text": [
      "1\n",
      "(6513,) (6513,)\n",
      "[0]\teval-rmse:1.59229\ttrain-rmse:1.59596\teval-my-error:0.04283\ttrain-my-error:0.04652\n",
      "1\n",
      "(6513,) (6513,)\n",
      "[1]\teval-rmse:2.40520\ttrain-rmse:2.40977\teval-my-error:0.02173\ttrain-my-error:0.02226\n"
     ]
    }
   ],
   "source": [
    "# training with customized objective, we can also do step by step training\n",
    "# simply look at xgboost.py's implementation of train\n",
    "bst = xgb.train(param, dtrain, num_round, watchlist, obj=logregobj,\n",
    "                feval=evalerror)"
   ]
  },
  {
   "cell_type": "code",
   "execution_count": null,
   "metadata": {},
   "outputs": [],
   "source": []
  }
 ],
 "metadata": {
  "kernelspec": {
   "display_name": "adiscriminator",
   "language": "python",
   "name": "adiscriminator"
  },
  "language_info": {
   "codemirror_mode": {
    "name": "ipython",
    "version": 3
   },
   "file_extension": ".py",
   "mimetype": "text/x-python",
   "name": "python",
   "nbconvert_exporter": "python",
   "pygments_lexer": "ipython3",
   "version": "3.7.4"
  },
  "toc": {
   "base_numbering": 1,
   "nav_menu": {},
   "number_sections": true,
   "sideBar": true,
   "skip_h1_title": false,
   "title_cell": "Table of Contents",
   "title_sidebar": "Contents",
   "toc_cell": false,
   "toc_position": {},
   "toc_section_display": true,
   "toc_window_display": false
  }
 },
 "nbformat": 4,
 "nbformat_minor": 4
}
